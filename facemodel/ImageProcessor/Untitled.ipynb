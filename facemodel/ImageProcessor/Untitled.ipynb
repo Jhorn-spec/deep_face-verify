{
 "cells": [
  {
   "cell_type": "code",
   "execution_count": 1,
   "id": "be4b7695-d870-4c28-ab63-510f15ba5144",
   "metadata": {},
   "outputs": [
    {
     "name": "stderr",
     "output_type": "stream",
     "text": [
      "C:\\Users\\biodu\\anaconda3\\lib\\site-packages\\scipy\\__init__.py:146: UserWarning: A NumPy version >=1.16.5 and <1.23.0 is required for this version of SciPy (detected version 1.26.2\n",
      "  warnings.warn(f\"A NumPy version >={np_minversion} and <{np_maxversion}\"\n"
     ]
    },
    {
     "name": "stdout",
     "output_type": "stream",
     "text": [
      "WARNING:tensorflow:From C:\\Users\\biodu\\anaconda3\\lib\\site-packages\\keras\\src\\losses.py:2976: The name tf.losses.sparse_softmax_cross_entropy is deprecated. Please use tf.compat.v1.losses.sparse_softmax_cross_entropy instead.\n",
      "\n"
     ]
    }
   ],
   "source": [
    "from helpers import backends, detector, models, df_metrics, delete_representations, get_id, visulaize_frame\n",
    "import cv2\n",
    "from cv2 import VideoCapture\n",
    "from deepface import DeepFace\n",
    "import os"
   ]
  },
  {
   "cell_type": "code",
   "execution_count": 5,
   "id": "3ebe0aed-7082-46f3-8ba1-f645ff35a7ec",
   "metadata": {},
   "outputs": [],
   "source": [
    "def capture_image_from_cam(id):\n",
    "    cap = cv2.VideoCapture(0)\n",
    "    \n",
    "    while True:\n",
    "        ret, frame = cap.read()  \n",
    "        face = detector(frame)\n",
    "\n",
    "        if face:\n",
    "            x, y, w, h = face[0]['facial_area'].values()\n",
    "            \n",
    "            # Draw rectangle around face  \n",
    "            cv2.rectangle(frame, (x,y), (x+w, y+h), (0, 255, 0), 2)\n",
    "            \n",
    "            # Crop image\n",
    "            crop_img = frame[y:y+h, x:x+w]\n",
    "            \n",
    "            # Display webcam preview\n",
    "            cv2.imshow('Register Face', frame)\n",
    "    \n",
    "            # Check for capture command  \n",
    "            if cv2.waitKey(1) & 0xFF == ord('c'):\n",
    "                return crop_img\n",
    "            \n",
    "        else:\n",
    "            # Display helper text\n",
    "            h, w = frame.shape[:2]\n",
    "            cv2.putText(frame, \"No face detected\", \n",
    "                       (10, h - 20), cv2.FONT_HERSHEY_PLAIN, 1.5, (0, 255, 0), 2)\n",
    "            \n",
    "            # Display webcam preview            \n",
    "            cv2.imshow('Register Face', frame)\n",
    "                      \n",
    "        # Check for exit    \n",
    "        if cv2.waitKey(1) & 0xFF == ord('q'):\n",
    "            return None\n",
    "                      \n",
    "    cap.release()"
   ]
  },
  {
   "cell_type": "code",
   "execution_count": 3,
   "id": "ce42e4fa-add9-4693-93eb-7a6e72f57b39",
   "metadata": {},
   "outputs": [],
   "source": [
    "def register_face(id, image_path=None, live = False):\n",
    "    result = {\"success\": False, \"message\": \"\", \"id\": id, \"image_path\": \"\"}\n",
    "\n",
    "    # check for duplicate id\n",
    "    if id + '.jpg' in os.listdir(os.getcwd() + '/img_db/'):\n",
    "        print(\"id already exists\")\n",
    "        result[\"message\"] = \"id already exists\"\n",
    "        check = input(\"Enter new id or enter 'x' to quit: \").lower()\n",
    "        if check == 'x':\n",
    "            print(\"exiting command...\")\n",
    "            result[\"message\"] = \"exiting command...\"\n",
    "            return result\n",
    "        else:\n",
    "            id = check\n",
    "            \n",
    "    if live:\n",
    "        live_capture = capture_image_from_cam(id)\n",
    "        if live_capture is not None:\n",
    "            # Save face\n",
    "            face_path = os.path.join(os.getcwd() + '/img_db/', id + '.jpg')\n",
    "            # face_path = \"/img_db/\"+id+\".jpg\"\n",
    "            cv2.imwrite(face_path, live_capture)\n",
    "            print(f\" id {id} registered successfully\")\n",
    "            print(f\"image stored in {face_path}\")\n",
    "\n",
    "            delete_representations()\n",
    "            result[\"success\"] = True\n",
    "            result[\"message\"] = f\"id {id} registered successfully\"\n",
    "            result[\"image_path\"] = face_path\n",
    "            return result\n",
    "\n",
    "    else:\n",
    "        # check image_path is not None\n",
    "        if image_path is None:\n",
    "            result[\"message\"] = \"image_path is None\"\n",
    "            print(result[\"message\"])\n",
    "            return result\n",
    "        \n",
    "        frame = cv2.imread(image_path)\n",
    "\n",
    "        # perform face detection\n",
    "        face = detector(frame)\n",
    "        if face:\n",
    "            # crop and save image\n",
    "            x, y , w, h = face[0]['facial_area'].values()\n",
    "            cv2.rectangle(frame, (x,y), (x+w, y+h), (0, 255, 0), 3)\n",
    "            crop_img = frame[y:y+h, x:x+w]\n",
    "\n",
    "            # Display the image with the detected face\n",
    "            cv2.imshow('detect face', frame)\n",
    "            # cv2.waitKey(0)\n",
    "\n",
    "            # Save face\n",
    "            face_path = os.path.join(os.getcwd() + '/img_db/', id + '.jpg')\n",
    "            # face_path = \"/img_db/\"+id+\".jpg\"\n",
    "            cv2.imwrite(face_path, crop_img)\n",
    "            print(f\" id {id} registered successfully\")\n",
    "            print(f\"image stored in {face_path}\")\n",
    "\n",
    "            delete_representations()\n",
    "            result[\"success\"] = True\n",
    "            result[\"message\"] = f\"id {id} registered successfully\"\n",
    "            result[\"image_path\"] = face_path\n",
    "            return result\n",
    "        \n",
    "        else:\n",
    "            result[\"message\"] = \"No face detected in the provided image\"\n",
    "            print(result[\"message\"])\n",
    "            cv2.destroyAllWindows()\n",
    "            return result"
   ]
  },
  {
   "cell_type": "code",
   "execution_count": 6,
   "id": "d23fd078-eec0-432e-97ef-bc400ecf3bf4",
   "metadata": {},
   "outputs": [],
   "source": [
    "img = capture_image_from_cam('mme173416')"
   ]
  },
  {
   "cell_type": "code",
   "execution_count": null,
   "id": "f11414d8-749f-4587-ae02-8b3016faec3c",
   "metadata": {},
   "outputs": [],
   "source": []
  }
 ],
 "metadata": {
  "kernelspec": {
   "display_name": "Python 3 (ipykernel)",
   "language": "python",
   "name": "python3"
  },
  "language_info": {
   "codemirror_mode": {
    "name": "ipython",
    "version": 3
   },
   "file_extension": ".py",
   "mimetype": "text/x-python",
   "name": "python",
   "nbconvert_exporter": "python",
   "pygments_lexer": "ipython3",
   "version": "3.9.12"
  }
 },
 "nbformat": 4,
 "nbformat_minor": 5
}
